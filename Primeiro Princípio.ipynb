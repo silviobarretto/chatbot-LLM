{
 "cells": [
  {
   "cell_type": "code",
   "execution_count": 1,
   "metadata": {},
   "outputs": [
    {
     "name": "stdout",
     "output_type": "stream",
     "text": [
      "Requirement already satisfied: openai in c:\\users\\administrador\\appdata\\local\\programs\\python\\python311\\lib\\site-packages (1.52.2)\n",
      "Requirement already satisfied: anyio<5,>=3.5.0 in c:\\users\\administrador\\appdata\\local\\programs\\python\\python311\\lib\\site-packages (from openai) (4.6.2.post1)\n",
      "Requirement already satisfied: distro<2,>=1.7.0 in c:\\users\\administrador\\appdata\\local\\programs\\python\\python311\\lib\\site-packages (from openai) (1.9.0)\n",
      "Requirement already satisfied: httpx<1,>=0.23.0 in c:\\users\\administrador\\appdata\\local\\programs\\python\\python311\\lib\\site-packages (from openai) (0.27.2)\n",
      "Requirement already satisfied: jiter<1,>=0.4.0 in c:\\users\\administrador\\appdata\\local\\programs\\python\\python311\\lib\\site-packages (from openai) (0.6.1)\n",
      "Requirement already satisfied: pydantic<3,>=1.9.0 in c:\\users\\administrador\\appdata\\local\\programs\\python\\python311\\lib\\site-packages (from openai) (2.9.2)\n",
      "Requirement already satisfied: sniffio in c:\\users\\administrador\\appdata\\local\\programs\\python\\python311\\lib\\site-packages (from openai) (1.3.1)\n",
      "Requirement already satisfied: tqdm>4 in c:\\users\\administrador\\appdata\\local\\programs\\python\\python311\\lib\\site-packages (from openai) (4.66.5)\n",
      "Requirement already satisfied: typing-extensions<5,>=4.11 in c:\\users\\administrador\\appdata\\local\\programs\\python\\python311\\lib\\site-packages (from openai) (4.12.2)\n",
      "Requirement already satisfied: idna>=2.8 in c:\\users\\administrador\\appdata\\local\\programs\\python\\python311\\lib\\site-packages (from anyio<5,>=3.5.0->openai) (3.10)\n",
      "Requirement already satisfied: certifi in c:\\users\\administrador\\appdata\\local\\programs\\python\\python311\\lib\\site-packages (from httpx<1,>=0.23.0->openai) (2024.8.30)\n",
      "Requirement already satisfied: httpcore==1.* in c:\\users\\administrador\\appdata\\local\\programs\\python\\python311\\lib\\site-packages (from httpx<1,>=0.23.0->openai) (1.0.6)\n",
      "Requirement already satisfied: h11<0.15,>=0.13 in c:\\users\\administrador\\appdata\\local\\programs\\python\\python311\\lib\\site-packages (from httpcore==1.*->httpx<1,>=0.23.0->openai) (0.14.0)\n",
      "Requirement already satisfied: annotated-types>=0.6.0 in c:\\users\\administrador\\appdata\\local\\programs\\python\\python311\\lib\\site-packages (from pydantic<3,>=1.9.0->openai) (0.7.0)\n",
      "Requirement already satisfied: pydantic-core==2.23.4 in c:\\users\\administrador\\appdata\\local\\programs\\python\\python311\\lib\\site-packages (from pydantic<3,>=1.9.0->openai) (2.23.4)\n",
      "Requirement already satisfied: colorama in c:\\users\\administrador\\appdata\\roaming\\python\\python311\\site-packages (from tqdm>4->openai) (0.4.6)\n",
      "Note: you may need to restart the kernel to use updated packages.\n"
     ]
    },
    {
     "name": "stderr",
     "output_type": "stream",
     "text": [
      "\n",
      "[notice] A new release of pip available: 22.3.1 -> 24.2\n",
      "[notice] To update, run: python.exe -m pip install --upgrade pip\n"
     ]
    }
   ],
   "source": [
    "%pip install openai"
   ]
  },
  {
   "cell_type": "markdown",
   "metadata": {},
   "source": [
    "# Primeiro Princípio"
   ]
  },
  {
   "cell_type": "markdown",
   "metadata": {},
   "source": [
    "## Uso de delimitadores"
   ]
  },
  {
   "cell_type": "code",
   "execution_count": 3,
   "metadata": {},
   "outputs": [],
   "source": [
    "##import openai\n",
    "OPENAI_API_KEY = ''\n",
    "client = openai.OpenAI(api_key=OPENAI_API_KEY)\n",
    "def get_completion(prompt, model=\"gpt-3.5-turbo\"):\n",
    "  messages = [{\"role\": \"user\", \"content\": prompt}]\n",
    "  response = client.chat.completions.create(\n",
    "      model=model,\n",
    "      messages=messages,\n",
    "      temperature=0\n",
    "  )\n",
    "  return response.choices[0].message.content"
   ]
  },
  {
   "cell_type": "code",
   "execution_count": 4,
   "metadata": {},
   "outputs": [],
   "source": [
    "texto = \"\"\"\n",
    "O desnvolvimento de software ágil requer que a equipe de desenvolvimento se\n",
    "reúna diariamente para discutir o progresso e os obstáculos. Essas reuniões,\n",
    "chamadas de \"daily stand-ups\", devem ser curtas e objetivas. Cada membro da equipe\n",
    "responde a três perguntas: o que fez ontem, o que fará hoje e se há algum impedimento\n",
    "no seu trabalho. Esta prática ajuda a manter todos alinhados e a identificar rapidamente\n",
    "problemas que possam atrasar o projeto.\n",
    "\"\"\""
   ]
  },
  {
   "cell_type": "code",
   "execution_count": 5,
   "metadata": {},
   "outputs": [],
   "source": [
    "prompt = f\"\"\"\n",
    "Resuma o texto delimitado por crases triplas em uma única frase curta.\n",
    "```{texto}```\n",
    "\"\"\""
   ]
  },
  {
   "cell_type": "code",
   "execution_count": 6,
   "metadata": {},
   "outputs": [
    {
     "name": "stdout",
     "output_type": "stream",
     "text": [
      "O desenvolvimento de software ágil requer reuniões diárias curtas e objetivas, chamadas de \"daily stand-ups\", onde a equipe discute progresso, obstáculos e se alinha para identificar problemas rapidamente.\n"
     ]
    }
   ],
   "source": [
    "resposta = get_completion(prompt)\n",
    "print(resposta)"
   ]
  },
  {
   "cell_type": "markdown",
   "metadata": {},
   "source": [
    "## Tática 2 - Especificar a estrutura da saída"
   ]
  },
  {
   "cell_type": "code",
   "execution_count": 7,
   "metadata": {},
   "outputs": [
    {
     "name": "stdout",
     "output_type": "stream",
     "text": [
      "{\n",
      "  \"filmes\": [\n",
      "    {\n",
      "      \"titulo\": \"A Última Fronteira\",\n",
      "      \"diretor\": \"Isabel Santos\",\n",
      "      \"ano_lancamento\": 2023\n",
      "    },\n",
      "    {\n",
      "      \"titulo\": \"O Segredo das Estrelas\",\n",
      "      \"diretor\": \"Ricardo Mendes\",\n",
      "      \"ano_lancamento\": 2025\n",
      "    },\n",
      "    {\n",
      "      \"titulo\": \"O Mistério do Abismo\",\n",
      "      \"diretor\": \"Mariana Silva\",\n",
      "      \"ano_lancamento\": 2027\n",
      "    }\n",
      "  ]\n",
      "}\n"
     ]
    }
   ],
   "source": [
    "prompt = \"\"\"\n",
    "Gere uma lista de três filmes fictícios, incluindo título, diretor e ano de lançamento.\n",
    "Forneça a resposta em formato JSON.\n",
    "\"\"\"\n",
    "\n",
    "resposta = get_completion(prompt)\n",
    "print(resposta)"
   ]
  },
  {
   "cell_type": "code",
   "execution_count": 8,
   "metadata": {},
   "outputs": [
    {
     "name": "stdout",
     "output_type": "stream",
     "text": [
      "<table>\n",
      "  <tr>\n",
      "    <th>Título</th>\n",
      "    <th>Diretor</th>\n",
      "    <th>Ano de Lançamento</th>\n",
      "  </tr>\n",
      "  <tr>\n",
      "    <td>Space Odyssey</td>\n",
      "    <td>John Smith</td>\n",
      "    <td>2025</td>\n",
      "  </tr>\n",
      "  <tr>\n",
      "    <td>Lost in Time</td>\n",
      "    <td>Sarah Johnson</td>\n",
      "    <td>2030</td>\n",
      "  </tr>\n",
      "  <tr>\n",
      "    <td>Virtual Reality</td>\n",
      "    <td>Michael Brown</td>\n",
      "    <td>2035</td>\n",
      "  </tr>\n",
      "</table>\n"
     ]
    }
   ],
   "source": [
    "prompt = \"\"\"\n",
    "Gere uma lista de três filmes fictícios, incluindo título, diretor e ano de lançamento.\n",
    "Forneça a resposta em formato de tabela em HTML.\n",
    "\"\"\"\n",
    "\n",
    "resposta = get_completion(prompt)\n",
    "print(resposta)"
   ]
  },
  {
   "cell_type": "code",
   "execution_count": 9,
   "metadata": {},
   "outputs": [
    {
     "data": {
      "text/html": [
       "<table>\n",
       "  <tr>\n",
       "    <th>Título</th>\n",
       "    <th>Diretor</th>\n",
       "    <th>Ano de Lançamento</th>\n",
       "  </tr>\n",
       "  <tr>\n",
       "    <td>Space Odyssey</td>\n",
       "    <td>John Smith</td>\n",
       "    <td>2025</td>\n",
       "  </tr>\n",
       "  <tr>\n",
       "    <td>Lost in Time</td>\n",
       "    <td>Sarah Johnson</td>\n",
       "    <td>2030</td>\n",
       "  </tr>\n",
       "  <tr>\n",
       "    <td>Virtual Reality</td>\n",
       "    <td>Michael Brown</td>\n",
       "    <td>2035</td>\n",
       "  </tr>\n",
       "</table>"
      ],
      "text/plain": [
       "<IPython.core.display.HTML object>"
      ]
     },
     "metadata": {},
     "output_type": "display_data"
    }
   ],
   "source": [
    "from IPython.display import display, HTML\n",
    "display(HTML(resposta))"
   ]
  },
  {
   "cell_type": "markdown",
   "metadata": {},
   "source": [
    "## Tática 3 - Verificação de Condições"
   ]
  },
  {
   "cell_type": "code",
   "execution_count": 10,
   "metadata": {},
   "outputs": [
    {
     "name": "stdout",
     "output_type": "stream",
     "text": [
      "Passo 1 - Entender a fórmula geral da equação quadrática: ax^2 + bx + c = 0.\n",
      "Passo 2 - Calcular o discriminante (Δ) utilizando a fórmula Δ = b^2 - 4ac.\n",
      "Passo 3 - Verificar o valor do discriminante para determinar a natureza das raízes da equação.\n",
      "Passo 4 - Se o discriminante for negativo, a equação não possui raízes reais.\n",
      "Passo 5 - Se o discriminante for zero, a equação possui uma raiz real.\n",
      "Passo 6 - Se o discriminante for positivo, a equação possui duas raízes reais distintas.\n",
      "Passo 7 - Para as situações onde o discriminante é maior que zero, utilizar as fórmulas x1 = (-b + sqrt(Δ)) / (2a) e x2 = (-b - sqrt(Δ)) / (2a) para encontrar as raízes.\n",
      "\n"
     ]
    }
   ],
   "source": [
    "text_1 = f\"\"\"\n",
    "Para resolver uma equação quadrática, é essencial primeiro entender a fórmula geral da equação: ax^2 + bx + c = 0.\n",
    "A solução dessa equação pode ser encontrada calculando o discriminante (Δ), que é determinado pela fórmula Δ = b^2 - 4ac.\n",
    "Se o valor do discriminante for negativo, a equação não possuí raízes reais.\n",
    "Se for zero, há exatamente uma raíz real, e se for positivo, existem duas raízes reais distintas.\n",
    "Para as situações onde Δ é maior que zero, as raízes pode ser encontradas utilizando as fórmulas:\n",
    "x1 = (-b + sqrt(Δ)) / (2a) e x2 = (-b - sqrt(Δ)) / (2a).\n",
    "\"\"\"\n",
    "\n",
    "prompt = f\"\"\"\n",
    "Você receberá um texto delimitado por aspas triplas. Se ele contiver uma sequência de instruções, reescreva essas instruções no seguinte formato:\n",
    "\n",
    "Passo 1 - ...\n",
    "Passo 2 - ...\n",
    "...\n",
    "Passo N - ...\n",
    "\n",
    "Se o texto não contiver uma sequência de instruções, escreva \"Nenhum passo fornecido.\"\n",
    "\n",
    "\\\"\\\"\\\"{text_1}\\\"\\\"\\\"\n",
    "\"\"\"\n",
    "\n",
    "resposta = get_completion(prompt)\n",
    "print(resposta)"
   ]
  },
  {
   "cell_type": "code",
   "execution_count": 11,
   "metadata": {},
   "outputs": [
    {
     "name": "stdout",
     "output_type": "stream",
     "text": [
      "Passo 1 - Entender a fórmula geral da equação quadrática: ax^2 + bx + c = 0.\n",
      "Passo 2 - Calcular o discriminante (Δ) utilizando a fórmula Δ = b^2 - 4ac.\n",
      "Passo 3 - Verificar o valor do discriminante para determinar a natureza das raízes da equação.\n",
      "Passo 4 - Se o discriminante for negativo, a equação não possui raízes reais.\n",
      "Passo 5 - Se o discriminante for zero, a equação possui uma raiz real.\n",
      "Passo 6 - Se o discriminante for positivo, a equação possui duas raízes reais distintas.\n",
      "Passo 7 - Para as situações onde o discriminante é maior que zero, utilizar as fórmulas x1 = (-b + sqrt(Δ)) / (2a) e x2 = (-b - sqrt(Δ)) / (2a) para encontrar as raízes.\n",
      "\n"
     ]
    }
   ],
   "source": [
    "text_2 = f\"\"\"\n",
    "Organizar um evento bem-sucedido envolve várias etapas importantes.\n",
    "Primeiramente, é necessário definir o objetivo do evento e o público-alvo.\n",
    "Em seguida, escolha uma data e um local apropriados, levando em consideração a conveniência para os participantes.\n",
    "Depois, faça um orçamento detalhado, incluindo custos com local, alimentação, materiais e divulgação.\n",
    "Promova o evento através de diferentes canais de comunicação, como redes sociais, e-mails e cartazes.\n",
    "No dia do evento, certifique-se de que tudo esteja preparado e que haja uma equipe de apoio para ajudar na organização.\n",
    "Após o evento, faça uma avaliação para identificar pontos fortes e áreas de melhoria para futuros eventos.\n",
    "\"\"\"\n",
    "\n",
    "resposta = get_completion(prompt)\n",
    "print(resposta)"
   ]
  },
  {
   "cell_type": "markdown",
   "metadata": {},
   "source": [
    "## Tática 4 - Prompting \"few-shot\""
   ]
  },
  {
   "cell_type": "code",
   "execution_count": 12,
   "metadata": {},
   "outputs": [
    {
     "name": "stdout",
     "output_type": "stream",
     "text": [
      "<mentor>: O trabalho em equipe é essencial para alcançar objetivos maiores e mais complexos, pois cada membro contribui com suas habilidades únicas, resultando em um resultado mais eficaz e satisfatório. É como uma engrenagem bem ajustada, onde cada parte é fundamental para o funcionamento harmonioso do todo.\n"
     ]
    }
   ],
   "source": [
    "prompt = \"\"\"\n",
    "Sua tarefa é responder em um estilo consistente.\n",
    "\n",
    "<aluno>: Me ensine sobre a importância da amizade.\n",
    "\n",
    "<mentor>: A amizade é como uma árvore que cresce com o tempo, oferecendo sombra e proteção; cada gesto de bondade e compreensão fortalece suas raízes.\n",
    "\n",
    "<aluno>: Me ensine sobre a importância do trabalho em equipe.\n",
    "\"\"\"\n",
    "\n",
    "resposta = get_completion(prompt)\n",
    "print(resposta)"
   ]
  },
  {
   "cell_type": "code",
   "execution_count": null,
   "metadata": {},
   "outputs": [],
   "source": []
  }
 ],
 "metadata": {
  "kernelspec": {
   "display_name": "Python 3",
   "language": "python",
   "name": "python3"
  },
  "language_info": {
   "codemirror_mode": {
    "name": "ipython",
    "version": 3
   },
   "file_extension": ".py",
   "mimetype": "text/x-python",
   "name": "python",
   "nbconvert_exporter": "python",
   "pygments_lexer": "ipython3",
   "version": "3.11.2"
  }
 },
 "nbformat": 4,
 "nbformat_minor": 2
}
