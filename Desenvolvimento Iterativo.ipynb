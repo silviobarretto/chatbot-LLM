{
 "cells": [
  {
   "cell_type": "code",
   "execution_count": 1,
   "metadata": {},
   "outputs": [
    {
     "name": "stdout",
     "output_type": "stream",
     "text": [
      "Requirement already satisfied: openai in c:\\users\\administrador\\appdata\\local\\programs\\python\\python311\\lib\\site-packages (1.52.2)\n",
      "Requirement already satisfied: anyio<5,>=3.5.0 in c:\\users\\administrador\\appdata\\local\\programs\\python\\python311\\lib\\site-packages (from openai) (4.6.2.post1)\n",
      "Requirement already satisfied: distro<2,>=1.7.0 in c:\\users\\administrador\\appdata\\local\\programs\\python\\python311\\lib\\site-packages (from openai) (1.9.0)\n",
      "Requirement already satisfied: httpx<1,>=0.23.0 in c:\\users\\administrador\\appdata\\local\\programs\\python\\python311\\lib\\site-packages (from openai) (0.27.2)\n",
      "Requirement already satisfied: jiter<1,>=0.4.0 in c:\\users\\administrador\\appdata\\local\\programs\\python\\python311\\lib\\site-packages (from openai) (0.6.1)\n",
      "Requirement already satisfied: pydantic<3,>=1.9.0 in c:\\users\\administrador\\appdata\\local\\programs\\python\\python311\\lib\\site-packages (from openai) (2.9.2)\n",
      "Requirement already satisfied: sniffio in c:\\users\\administrador\\appdata\\local\\programs\\python\\python311\\lib\\site-packages (from openai) (1.3.1)\n",
      "Requirement already satisfied: tqdm>4 in c:\\users\\administrador\\appdata\\local\\programs\\python\\python311\\lib\\site-packages (from openai) (4.66.5)\n",
      "Requirement already satisfied: typing-extensions<5,>=4.11 in c:\\users\\administrador\\appdata\\local\\programs\\python\\python311\\lib\\site-packages (from openai) (4.12.2)\n",
      "Requirement already satisfied: idna>=2.8 in c:\\users\\administrador\\appdata\\local\\programs\\python\\python311\\lib\\site-packages (from anyio<5,>=3.5.0->openai) (3.10)\n",
      "Requirement already satisfied: certifi in c:\\users\\administrador\\appdata\\local\\programs\\python\\python311\\lib\\site-packages (from httpx<1,>=0.23.0->openai) (2024.8.30)\n",
      "Requirement already satisfied: httpcore==1.* in c:\\users\\administrador\\appdata\\local\\programs\\python\\python311\\lib\\site-packages (from httpx<1,>=0.23.0->openai) (1.0.6)\n",
      "Requirement already satisfied: h11<0.15,>=0.13 in c:\\users\\administrador\\appdata\\local\\programs\\python\\python311\\lib\\site-packages (from httpcore==1.*->httpx<1,>=0.23.0->openai) (0.14.0)\n",
      "Requirement already satisfied: annotated-types>=0.6.0 in c:\\users\\administrador\\appdata\\local\\programs\\python\\python311\\lib\\site-packages (from pydantic<3,>=1.9.0->openai) (0.7.0)\n",
      "Requirement already satisfied: pydantic-core==2.23.4 in c:\\users\\administrador\\appdata\\local\\programs\\python\\python311\\lib\\site-packages (from pydantic<3,>=1.9.0->openai) (2.23.4)\n",
      "Requirement already satisfied: colorama in c:\\users\\administrador\\appdata\\roaming\\python\\python311\\site-packages (from tqdm>4->openai) (0.4.6)\n"
     ]
    },
    {
     "name": "stderr",
     "output_type": "stream",
     "text": [
      "\n",
      "[notice] A new release of pip available: 22.3.1 -> 24.2\n",
      "[notice] To update, run: python.exe -m pip install --upgrade pip\n"
     ]
    }
   ],
   "source": [
    "%pip install openai"
   ]
  },
  {
   "cell_type": "code",
   "execution_count": 25,
   "metadata": {},
   "outputs": [],
   "source": [
    "##import openai"
   ]
  },
  {
   "cell_type": "code",
   "execution_count": 3,
   "metadata": {},
   "outputs": [],
   "source": [
    "##OPENAI_API_KEY = ''"
   ]
  },
  {
   "cell_type": "code",
   "execution_count": 26,
   "metadata": {},
   "outputs": [],
   "source": [
    "##client = openai.OpenAI(api_key=OPENAI_API_KEY)"
   ]
  },
  {
   "cell_type": "code",
   "execution_count": 11,
   "metadata": {},
   "outputs": [],
   "source": [
    "def get_completion(prompt, model=\"gpt-3.5-turbo\"):\n",
    "  messages = [{\"role\": \"user\", \"content\": prompt}]\n",
    "  response = client.chat.completions.create(\n",
    "      model=model,\n",
    "      messages=messages,\n",
    "      temperature=0\n",
    "  )\n",
    "  return response.choices[0].message.content"
   ]
  },
  {
   "cell_type": "code",
   "execution_count": 12,
   "metadata": {},
   "outputs": [],
   "source": [
    "fact_sheet_char = \"\"\"\n",
    "OVERVIEW\n",
    "- Parte de uma bela família de móveis de escritório inspirados no design dos anos 50,\n",
    "incluindo armários de arquivos, mesas, estantes, mesas de reuniões e muito mais.\n",
    "- Várias opções de cores de concha e acabamentos de base.\n",
    "- Disponível com encosto e frente em plástico (SWC-100)\n",
    "ou totalmente estofada (SWC-110) em 10 opções de tecido e 6 de couro.\n",
    "- Opções e acabamento de base são: aço inoxidável, preto fosco,\n",
    "branco brilhante ou cromo.\n",
    "- Cadeira disponível com os sem braços.\n",
    "- Adequado para ambientes residenciais ou comerciais.\n",
    "- Qualificado para uso em contratos.\n",
    "\n",
    "CONSTRUCTION\n",
    "- Base de alumínio revestido de plástico com 5 rodas.\n",
    "- Ajuste pneumático da cadeira para fácil elevação/abaixamento.\n",
    "\n",
    "DIMENSIONS\n",
    "- LARGURA 53 CM | 20.87\"\n",
    "- PROFUNDIDADE 51 CM | 20.08\"\n",
    "- ALTURA 80 CM | 31.50\"\n",
    "- ALTURA DO ASSENTO 44 CM | 17.32\"\n",
    "- PROFUNDIDADE DO ASSENTO 41 CM | 16.14\"\n",
    "\n",
    "OPTIONS\n",
    "- Opções de rodízios para piso macio ou duro.\n",
    "- Duas opções de densidades de espuma do assento:\n",
    "média (1.8 lb/ft3) ou alta (2.8 lb/ft3)\n",
    "- Sem braços ou com braços de PU ajustáveis em 8 posições.\n",
    "\n",
    "MATERIALS\n",
    "BASE DE CONCHA DESLIZANTE\n",
    "- Alumínio fundido com revestimento de nylon PA6/PA66 modificado.\n",
    "- Espessura da concha: 10 mm.\n",
    "ASSENTO\n",
    "- Espuma HD36\n",
    "\n",
    "PAÍS DE ORIGEM\n",
    "- Itália\n",
    "\"\"\""
   ]
  },
  {
   "cell_type": "code",
   "execution_count": 8,
   "metadata": {},
   "outputs": [],
   "source": [
    "prompt = f\"\"\"\n",
    "Sua tarefa é ajudar uma equipe de marketing a criar uma\n",
    "descrição para um site de varejo de um produto com base em uma ficha técnica.\n",
    "\n",
    "Escreva uma descrição do produto com base nas informações fornecidas nas especificações\n",
    "técnicas delimitadas por crases triplas.\n",
    "\n",
    "Especificações técnicas: '''{fact_sheet_char}'''\n",
    "\"\"\""
   ]
  },
  {
   "cell_type": "code",
   "execution_count": 13,
   "metadata": {},
   "outputs": [
    {
     "name": "stdout",
     "output_type": "stream",
     "text": [
      "Apresentamos a cadeira de escritório SWC, parte de uma elegante família de móveis inspirados no design dos anos 50. Com diversas opções de cores de concha e acabamentos de base, esta cadeira está disponível em duas versões: uma com encosto e frente em plástico e outra totalmente estofada, ambas em uma variedade de tecidos e couros.\n",
      "\n",
      "A base de alumínio revestido de plástico possui 5 rodas e um ajuste pneumático que permite fácil elevação e abaixamento da cadeira. Com dimensões de 53 cm de largura, 51 cm de profundidade e 80 cm de altura, esta cadeira é adequada para ambientes residenciais e comerciais, sendo qualificada para uso em contratos.\n",
      "\n",
      "As opções de personalização incluem rodízios para piso macio ou duro, duas densidades de espuma do assento (média ou alta) e a escolha entre uma versão com ou sem braços de PU ajustáveis em 8 posições. A base de concha deslizante é feita de alumínio fundido com revestimento de nylon, enquanto o assento é preenchido com espuma HD36 para garantir conforto e durabilidade.\n",
      "\n",
      "Fabricada na Itália, a cadeira de escritório SWC combina estilo retro com funcionalidade moderna, tornando-a uma escolha elegante e prática para qualquer espaço de trabalho.\n"
     ]
    }
   ],
   "source": [
    "response = get_completion(prompt)\n",
    "print(response)"
   ]
  },
  {
   "cell_type": "code",
   "execution_count": 14,
   "metadata": {},
   "outputs": [],
   "source": [
    "prompt = f\"\"\"\n",
    "Sua tarefa é ajudar uma equipe de marketing a criar uma\n",
    "descrição para um site de varejo de um produto com base em uma ficha técnica.\n",
    "\n",
    "Escreva uma descrição do produto com base nas informações fornecidas nas especificações\n",
    "técnicas delimitadas por crases triplas.\n",
    "\n",
    "Use no máximo 50 palavras.\n",
    "\n",
    "Especificações técnicas: '''{fact_sheet_char}'''\n",
    "\"\"\""
   ]
  },
  {
   "cell_type": "code",
   "execution_count": 15,
   "metadata": {},
   "outputs": [
    {
     "name": "stdout",
     "output_type": "stream",
     "text": [
      "A cadeira de escritório SWC é uma peça elegante e versátil, parte de uma coleção inspirada nos anos 50. Com várias opções de cores e acabamentos, é perfeita para ambientes residenciais ou comerciais. Possui ajuste pneumático, base de alumínio e opções de braços ajustáveis. Fabricada na Itália.\n"
     ]
    }
   ],
   "source": [
    "response = get_completion(prompt)\n",
    "print(response)"
   ]
  },
  {
   "cell_type": "code",
   "execution_count": 16,
   "metadata": {},
   "outputs": [
    {
     "name": "stdout",
     "output_type": "stream",
     "text": [
      "47\n"
     ]
    }
   ],
   "source": [
    "print(len(response.split()))"
   ]
  },
  {
   "cell_type": "code",
   "execution_count": 17,
   "metadata": {},
   "outputs": [],
   "source": [
    "prompt = f\"\"\"\n",
    "Sua tarefa é ajudar uma equipe de marketing a criar uma\n",
    "descrição para um site de varejo de um produto com base em uma ficha técnica.\n",
    "\n",
    "Escreva uma descrição do produto com base nas informações fornecidas nas especificações\n",
    "técnicas delimitadas por crases triplas.\n",
    "\n",
    "A descrição é destinada a varejistas de móveis,\n",
    "portanto deve ser técnica e focar nos materiais de construção do produto.\n",
    "\n",
    "Use no máximo 50 palavras.\n",
    "\n",
    "Especificações técnicas: '''{fact_sheet_char}'''\n",
    "\"\"\""
   ]
  },
  {
   "cell_type": "code",
   "execution_count": 18,
   "metadata": {},
   "outputs": [
    {
     "name": "stdout",
     "output_type": "stream",
     "text": [
      "A cadeira de escritório SWC é parte de uma elegante linha de móveis inspirados nos anos 50. Com base de alumínio revestido de plástico e opções de tecido ou couro, é ideal para ambientes residenciais ou comerciais. Fabricada na Itália, oferece conforto e estilo para seu espaço de trabalho.\n"
     ]
    }
   ],
   "source": [
    "response = get_completion(prompt)\n",
    "print(response)"
   ]
  },
  {
   "cell_type": "code",
   "execution_count": 19,
   "metadata": {},
   "outputs": [
    {
     "name": "stdout",
     "output_type": "stream",
     "text": [
      "49\n"
     ]
    }
   ],
   "source": [
    "print(len(response.split()))"
   ]
  },
  {
   "cell_type": "code",
   "execution_count": 20,
   "metadata": {},
   "outputs": [],
   "source": [
    "prompt = f\"\"\"\n",
    "Sua tarefa é ajudar uma equipe de marketing a criar uma\n",
    "descrição para um site de varejo de um produto com base em uma ficha técnica.\n",
    "\n",
    "Escreva uma descrição do produto com base nas informações fornecidas nas especificações\n",
    "técnicas delimitadas por crases triplas.\n",
    "\n",
    "A descrição é destinada a varejistas de móveis,\n",
    "portanto deve ser técnica e focar nos materiais de construção do produto.\n",
    "\n",
    "No final da descrição, inclua todos os IDs de produtos\n",
    "de 7 caracteres nas especificações técnicas.\n",
    "\n",
    "Use no máximo 50 palavras.\n",
    "\n",
    "Especificações técnicas: '''{fact_sheet_char}'''\n",
    "\"\"\""
   ]
  },
  {
   "cell_type": "code",
   "execution_count": 21,
   "metadata": {},
   "outputs": [
    {
     "name": "stdout",
     "output_type": "stream",
     "text": [
      "A cadeira de escritório SWC é parte de uma linha de móveis inspirados nos anos 50, com diversas opções de cores e acabamentos. Construída com base de alumínio revestido de plástico e ajuste pneumático, é ideal para ambientes residenciais ou comerciais. Fabricada na Itália. IDs de produtos: SWC-100, SWC-110.\n"
     ]
    }
   ],
   "source": [
    "response = get_completion(prompt)\n",
    "print(response)"
   ]
  },
  {
   "cell_type": "code",
   "execution_count": 22,
   "metadata": {},
   "outputs": [],
   "source": [
    "prompt = f\"\"\"\n",
    "Sua tarefa é ajudar uma equipe de marketing a criar uma\n",
    "descrição para um site de varejo de um produto com base em uma ficha técnica.\n",
    "\n",
    "Escreva uma descrição do produto com base nas informações fornecidas nas especificações\n",
    "técnicas delimitadas por crases triplas.\n",
    "\n",
    "A descrição é destinada a varejistas de móveis,\n",
    "portanto deve ser técnica e focar nos materiais de construção do produto.\n",
    "\n",
    "Após a descrição, inclua uma tabela com as\n",
    "dimensões do produto. A tabela deve ter duas colunas.\n",
    "Na primeira coluna, inclua o nome da dimensão.\n",
    "Na segunda coluna, inclua as medidas em polegadas apenas.\n",
    "\n",
    "Dê à tabela o título 'Dimensões do Produto'.\n",
    "\n",
    "Formate tudo com HTML que pode ser usado em um site.\n",
    "Coloque a descrição em um elemento <div>\n",
    "\n",
    "No final da descrição, inclua todos os IDs de produtos\n",
    "de 7 caracteres nas especificações técnicas.\n",
    "\n",
    "Especificações técnicas: '''{fact_sheet_char}'''\n",
    "\"\"\""
   ]
  },
  {
   "cell_type": "code",
   "execution_count": 23,
   "metadata": {},
   "outputs": [
    {
     "name": "stdout",
     "output_type": "stream",
     "text": [
      "<!DOCTYPE html>\n",
      "<html>\n",
      "<head>\n",
      "    <title>Descrição do Produto</title>\n",
      "</head>\n",
      "<body>\n",
      "    <div>\n",
      "        <p>\n",
      "            A cadeira de escritório SWC é parte de uma bela família de móveis inspirados no design dos anos 50. Com várias opções de cores de concha e acabamentos de base, esta cadeira está disponível com encosto e frente em plástico ou totalmente estofada em diversas opções de tecido e couro. A base de alumínio revestido de plástico com 5 rodas proporciona mobilidade, enquanto o ajuste pneumático da cadeira permite fácil elevação e abaixamento. Adequada para ambientes residenciais ou comerciais, esta cadeira é qualificada para uso em contratos, garantindo durabilidade e conforto.\n",
      "        </p>\n",
      "        <p>\n",
      "            Materiais de alta qualidade, como alumínio fundido com revestimento de nylon PA6/PA66 modificado na base da concha e espuma HD36 no assento, garantem resistência e conforto. Com opções de rodízios para piso macio ou duro, densidades de espuma do assento e braços ajustáveis em 8 posições, a cadeira SWC oferece personalização e ergonomia para atender às necessidades do usuário.\n",
      "        </p>\n",
      "        <p>\n",
      "            País de origem: Itália\n",
      "        </p>\n",
      "    </div>\n",
      "\n",
      "    <h2>Dimensões do Produto</h2>\n",
      "    <table>\n",
      "        <tr>\n",
      "            <td>LARGURA</td>\n",
      "            <td>20.87\"</td>\n",
      "        </tr>\n",
      "        <tr>\n",
      "            <td>PROFUNDIDADE</td>\n",
      "            <td>20.08\"</td>\n",
      "        </tr>\n",
      "        <tr>\n",
      "            <td>ALTURA</td>\n",
      "            <td>31.50\"</td>\n",
      "        </tr>\n",
      "        <tr>\n",
      "            <td>ALTURA DO ASSENTO</td>\n",
      "            <td>17.32\"</td>\n",
      "        </tr>\n",
      "        <tr>\n",
      "            <td>PROFUNDIDADE DO ASSENTO</td>\n",
      "            <td>16.14\"</td>\n",
      "        </tr>\n",
      "    </table>\n",
      "\n",
      "    <p>IDs de produtos: SWC-100, SWC-110</p>\n",
      "</body>\n",
      "</html>\n"
     ]
    }
   ],
   "source": [
    "response = get_completion(prompt)\n",
    "print(response)"
   ]
  },
  {
   "cell_type": "code",
   "execution_count": 24,
   "metadata": {},
   "outputs": [
    {
     "data": {
      "text/html": [
       "<!DOCTYPE html>\n",
       "<html>\n",
       "<head>\n",
       "    <title>Descrição do Produto</title>\n",
       "</head>\n",
       "<body>\n",
       "    <div>\n",
       "        <p>\n",
       "            A cadeira de escritório SWC é parte de uma bela família de móveis inspirados no design dos anos 50. Com várias opções de cores de concha e acabamentos de base, esta cadeira está disponível com encosto e frente em plástico ou totalmente estofada em diversas opções de tecido e couro. A base de alumínio revestido de plástico com 5 rodas proporciona mobilidade, enquanto o ajuste pneumático da cadeira permite fácil elevação e abaixamento. Adequada para ambientes residenciais ou comerciais, esta cadeira é qualificada para uso em contratos, garantindo durabilidade e conforto.\n",
       "        </p>\n",
       "        <p>\n",
       "            Materiais de alta qualidade, como alumínio fundido com revestimento de nylon PA6/PA66 modificado na base da concha e espuma HD36 no assento, garantem resistência e conforto. Com opções de rodízios para piso macio ou duro, densidades de espuma do assento e braços ajustáveis em 8 posições, a cadeira SWC oferece personalização e ergonomia para atender às necessidades do usuário.\n",
       "        </p>\n",
       "        <p>\n",
       "            País de origem: Itália\n",
       "        </p>\n",
       "    </div>\n",
       "\n",
       "    <h2>Dimensões do Produto</h2>\n",
       "    <table>\n",
       "        <tr>\n",
       "            <td>LARGURA</td>\n",
       "            <td>20.87\"</td>\n",
       "        </tr>\n",
       "        <tr>\n",
       "            <td>PROFUNDIDADE</td>\n",
       "            <td>20.08\"</td>\n",
       "        </tr>\n",
       "        <tr>\n",
       "            <td>ALTURA</td>\n",
       "            <td>31.50\"</td>\n",
       "        </tr>\n",
       "        <tr>\n",
       "            <td>ALTURA DO ASSENTO</td>\n",
       "            <td>17.32\"</td>\n",
       "        </tr>\n",
       "        <tr>\n",
       "            <td>PROFUNDIDADE DO ASSENTO</td>\n",
       "            <td>16.14\"</td>\n",
       "        </tr>\n",
       "    </table>\n",
       "\n",
       "    <p>IDs de produtos: SWC-100, SWC-110</p>\n",
       "</body>\n",
       "</html>"
      ],
      "text/plain": [
       "<IPython.core.display.HTML object>"
      ]
     },
     "metadata": {},
     "output_type": "display_data"
    }
   ],
   "source": [
    "from IPython.display import display, HTML\n",
    "display(HTML(response))"
   ]
  }
 ],
 "metadata": {
  "kernelspec": {
   "display_name": "Python 3",
   "language": "python",
   "name": "python3"
  },
  "language_info": {
   "codemirror_mode": {
    "name": "ipython",
    "version": 3
   },
   "file_extension": ".py",
   "mimetype": "text/x-python",
   "name": "python",
   "nbconvert_exporter": "python",
   "pygments_lexer": "ipython3",
   "version": "3.11.2"
  }
 },
 "nbformat": 4,
 "nbformat_minor": 2
}
